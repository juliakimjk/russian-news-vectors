{
 "cells": [
  {
   "cell_type": "code",
   "execution_count": null,
   "metadata": {},
   "outputs": [],
   "source": [
    "from gensim.models import Word2Vec, KeyedVectors"
   ]
  },
  {
   "cell_type": "code",
   "execution_count": null,
   "metadata": {},
   "outputs": [],
   "source": [
    "def smart_procrustes_align_gensim(base_embed: gensim.models.KeyedVectors,\n",
    "                                  other_embed: gensim.models.KeyedVectors):\n",
    "    base_embed.init_sims()\n",
    "    other_embed.init_sims()\n",
    "\n",
    "    shared_vocab = list(\n",
    "        set(base_embed.vocab.keys()).intersection(other_embed.vocab.keys()))\n",
    "\n",
    "    base_idx2word = {num: word for num, word in enumerate(base_embed.index2word)}\n",
    "    other_idx2word = {num: word for num, word in enumerate(other_embed.index2word)}\n",
    "\n",
    "    base_word2idx = {word: num for num, word in base_idx2word.items()}\n",
    "    other_word2idx = {word: num for num, word in other_idx2word.items()}\n",
    "\n",
    "    base_shared_indices = [base_word2idx[word] for word in\n",
    "                           shared_vocab]  # remember to remove tqdm\n",
    "    other_shared_indices = [other_word2idx[word] for word in\n",
    "                            shared_vocab]  # remember to remove tqdm\n",
    "\n",
    "    base_vecs = base_embed.vectors_norm\n",
    "    other_vecs = other_embed.vectors_norm\n",
    "\n",
    "    base_shared_vecs = base_vecs[base_shared_indices]\n",
    "    other_shared_vecs = other_vecs[other_shared_indices]\n",
    "\n",
    "    m = other_shared_vecs.T @ base_shared_vecs\n",
    "    u, _, v = np.linalg.svd(m)\n",
    "    ortho = u @ v\n",
    "\n",
    "    other_embed.vectors_norm = other_embed.vectors = other_embed.vectors_norm.dot(ortho)\n",
    "\n",
    "    return other_embed"
   ]
  },
  {
   "cell_type": "code",
   "execution_count": null,
   "metadata": {},
   "outputs": [],
   "source": [
    "def intersection_align_gensim(m1: gensim.models.KeyedVectors, m2: gensim.models.KeyedVectors,\n",
    "                              pos_tag: (str, None) = None, words: (list, None) = None):\n",
    "    \n",
    "    m1.init_sims()\n",
    "    m2.init_sims()\n",
    "    \n",
    "    vocab_m1 = set(m1.vocab.keys())\n",
    "    vocab_m2 = set(m2.vocab.keys())\n",
    "\n",
    "    # Find the common vocabulary\n",
    "    common_vocab = vocab_m1 & vocab_m2\n",
    "    if words:\n",
    "        common_vocab &= set(words)\n",
    "\n",
    "    # If no alignment necessary because vocab is identical...\n",
    "    if not vocab_m1 - common_vocab and not vocab_m2 - common_vocab:\n",
    "        return m1, m2\n",
    "\n",
    "    # Otherwise sort lexicographically\n",
    "    common_vocab = list(common_vocab)\n",
    "    common_vocab.sort()\n",
    "\n",
    "    # Then for each model...\n",
    "    for m in (m1, m2):\n",
    "        # Replace old vectors_norm array with new one (with common vocab)\n",
    "        indices = [m.vocab[w].index for w in common_vocab]\n",
    "        old_arr = m.vectors_norm\n",
    "        new_arr = np.array([old_arr[index] for index in indices])\n",
    "        m.vectors_norm = m.vectors = new_arr\n",
    "\n",
    "        # Replace old vocab dictionary with new one (with common vocab)\n",
    "        # and old index2word with new one\n",
    "        m.index2word = common_vocab\n",
    "        old_vocab = m.vocab\n",
    "        new_vocab = dict()\n",
    "        for new_index, word in enumerate(common_vocab):\n",
    "            old_vocab_obj = old_vocab[word]\n",
    "            new_vocab[word] = gensim.models.word2vec.Vocab(index=new_index, count=old_vocab_obj.count)\n",
    "        m.vocab = new_vocab\n",
    "\n",
    "    return m1, m2"
   ]
  },
  {
   "cell_type": "code",
   "execution_count": null,
   "metadata": {},
   "outputs": [],
   "source": [
    "model_baseline = KeyedVectors.load_word2vec_format('w2v_model_km.bin', binary=True)"
   ]
  },
  {
   "cell_type": "code",
   "execution_count": null,
   "metadata": {},
   "outputs": [],
   "source": [
    "m1, m2 = intersection_align_gensim(model_baseline, model_vesti)\n",
    "m3 = smart_procrustes_align_gensim(m1, m2)"
   ]
  }
 ],
 "metadata": {
  "kernelspec": {
   "display_name": "Python 3",
   "language": "python",
   "name": "python3"
  },
  "language_info": {
   "codemirror_mode": {
    "name": "ipython",
    "version": 3
   },
   "file_extension": ".py",
   "mimetype": "text/x-python",
   "name": "python",
   "nbconvert_exporter": "python",
   "pygments_lexer": "ipython3",
   "version": "3.8.5"
  }
 },
 "nbformat": 4,
 "nbformat_minor": 4
}
