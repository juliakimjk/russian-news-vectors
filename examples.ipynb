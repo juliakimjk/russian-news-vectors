{
 "cells": [
  {
   "cell_type": "code",
   "execution_count": null,
   "metadata": {},
   "outputs": [],
   "source": [
    "from gensim.models import Word2Vec, KeyedVectors\n",
    "from tqdm import tqdm\n",
    "from scipy.spatial.distance import cosine\n",
    "from random import randint\n",
    "import pandas as pd"
   ]
  },
  {
   "cell_type": "code",
   "execution_count": null,
   "metadata": {},
   "outputs": [],
   "source": [
    "m2002 = KeyedVectors.load_word2vec_format('w2v_model_2002.bin', binary=True)\n",
    "m2003 = KeyedVectors.load_word2vec_format('w2v_model_2003.bin', binary=True)\n",
    "m2004 = KeyedVectors.load_word2vec_format('w2v_model_2004.bin', binary=True)\n",
    "m2005 = KeyedVectors.load_word2vec_format('w2v_model_2005.bin', binary=True)\n",
    "m2006 = KeyedVectors.load_word2vec_format('w2v_model_2006.bin', binary=True)\n",
    "m2007 = KeyedVectors.load_word2vec_format('w2v_model_2007.bin', binary=True)\n",
    "m2008 = KeyedVectors.load_word2vec_format('w2v_model_2008.bin', binary=True)\n",
    "m2009 = KeyedVectors.load_word2vec_format('w2v_model_2009.bin', binary=True)\n",
    "m2010 = KeyedVectors.load_word2vec_format('w2v_model_2010.bin', binary=True)\n",
    "m2011 = KeyedVectors.load_word2vec_format('w2v_model_2011.bin', binary=True)\n",
    "m2012 = KeyedVectors.load_word2vec_format('w2v_model_2012.bin', binary=True)\n",
    "m2013 = KeyedVectors.load_word2vec_format('w2v_model_2013.bin', binary=True)\n",
    "m2014 = KeyedVectors.load_word2vec_format('w2v_model_2014.bin', binary=True)\n",
    "m2015 = KeyedVectors.load_word2vec_format('w2v_model_2015.bin', binary=True)\n",
    "m2016 = KeyedVectors.load_word2vec_format('w2v_model_2016.bin', binary=True)\n",
    "m2017 = KeyedVectors.load_word2vec_format('w2v_model_2017.bin', binary=True)\n",
    "m2018 = KeyedVectors.load_word2vec_format('w2v_model_2018.bin', binary=True)\n",
    "m2019 = KeyedVectors.load_word2vec_format('w2v_model_2019.bin', binary=True)\n",
    "m2020 = KeyedVectors.load_word2vec_format('w2v_model_2020.bin', binary=True)"
   ]
  },
  {
   "cell_type": "code",
   "execution_count": null,
   "metadata": {},
   "outputs": [],
   "source": [
    "mkm = KeyedVectors.load_word2vec_format('w2v_model_km.bin', binary=True)\n",
    "mria = KeyedVectors.load_word2vec_format('w2v_model_ria.bin', binary=True)\n",
    "mlenta = KeyedVectors.load_word2vec_format('w2v_model_lenta.bin', binary=True)\n",
    "miz = KeyedVectors.load_word2vec_format('w2v_model_iz.bin', binary=True)\n",
    "mvesti = KeyedVectors.load_word2vec_format('w2v_model_vesti.bin', binary=True)"
   ]
  },
  {
   "cell_type": "code",
   "execution_count": null,
   "metadata": {},
   "outputs": [],
   "source": [
    "d = {'RIA': mria.most_similar([\"транспонировать\"], topn=30), 'Коммерсантъ': mkm.most_similar([\"транспонировать\"], topn=30)}\n",
    "\n",
    "df = pd.DataFrame(data=d)"
   ]
  },
  {
   "cell_type": "code",
   "execution_count": null,
   "metadata": {},
   "outputs": [],
   "source": [
    "df"
   ]
  }
 ],
 "metadata": {
  "kernelspec": {
   "display_name": "Python 3",
   "language": "python",
   "name": "python3"
  },
  "language_info": {
   "codemirror_mode": {
    "name": "ipython",
    "version": 3
   },
   "file_extension": ".py",
   "mimetype": "text/x-python",
   "name": "python",
   "nbconvert_exporter": "python",
   "pygments_lexer": "ipython3",
   "version": "3.8.5"
  }
 },
 "nbformat": 4,
 "nbformat_minor": 4
}
