{
 "cells": [
  {
   "cell_type": "code",
   "execution_count": null,
   "metadata": {},
   "outputs": [],
   "source": [
    "import os\n",
    "from stop_words import get_stop_words\n",
    "import re\n",
    "import pymorphy2\n",
    "from tqdm import tqdm"
   ]
  },
  {
   "cell_type": "code",
   "execution_count": null,
   "metadata": {},
   "outputs": [],
   "source": [
    "stop_words = get_stop_words('ru')\n",
    "morph = pymorphy2.MorphAnalyzer()\n",
    "rex = re.compile(\"[\\\"#$%&'()*+,./:;<=>!?@[\\]^_`{|}~„“«»†*—/\\-]+\")"
   ]
  },
  {
   "cell_type": "code",
   "execution_count": null,
   "metadata": {},
   "outputs": [],
   "source": [
    "def normalizer(txt): #принимает строку, возвращает строку из слов в начальной форме и без пунктуации\n",
    "    np = re.sub(rex, ' ', txt)\n",
    "    no_punct = [w.lower() for w in np.split()]\n",
    "    lemmatized = []\n",
    "    for w in no_punct:\n",
    "        nw = morph.parse(w)[0].normal_form\n",
    "        if nw not in stop_words:\n",
    "            lemmatized.append(nw)\n",
    "    return ' '.join(lemmatized)"
   ]
  },
  {
   "cell_type": "code",
   "execution_count": null,
   "metadata": {},
   "outputs": [],
   "source": [
    "%%time\n",
    "\n",
    "docs = []\n",
    "for i in tqdm(os.listdir('/home/yulkim/output/Vesti/vesti2020/')): #считываем всем статьи Вестей 2020 года\n",
    "    with open('/home/dskorinkin/output/Vesti/vesti2020/' + i, 'r', encoding='UTF-8') as f:\n",
    "        normal = normalizer(' '.join(f.readlines()[1:])) #нормализуем и лемматизируем\n",
    "        docs.append(normal)\n",
    "\n",
    "for doc in tqdm(docs):\n",
    "    with open('/home/dskorinkin/output/Lemmatized/vesti2020.txt', 'a', encoding='UTF-8') as fl:\n",
    "        fl.write(doc + '\\n') #записываем в новый файл"
   ]
  }
 ],
 "metadata": {
  "kernelspec": {
   "display_name": "Python 3",
   "language": "python",
   "name": "python3"
  },
  "language_info": {
   "codemirror_mode": {
    "name": "ipython",
    "version": 3
   },
   "file_extension": ".py",
   "mimetype": "text/x-python",
   "name": "python",
   "nbconvert_exporter": "python",
   "pygments_lexer": "ipython3",
   "version": "3.8.5"
  }
 },
 "nbformat": 4,
 "nbformat_minor": 4
}
