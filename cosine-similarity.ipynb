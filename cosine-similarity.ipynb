{
 "cells": [
  {
   "cell_type": "code",
   "execution_count": null,
   "metadata": {},
   "outputs": [],
   "source": [
    "from gensim.models import Word2Vec, KeyedVectors\n",
    "import os\n",
    "from scipy.spatial.distance import cosine"
   ]
  },
  {
   "cell_type": "code",
   "execution_count": null,
   "metadata": {},
   "outputs": [],
   "source": [
    "model1 = KeyedVectors.load_word2vec_format('w2v_model_iz.bin', binary=True) #основная модель\n",
    "model2 = KeyedVectors.load_word2vec_format('align_media/iz/model_vesti.bin', binary=True) #выровненная модель другого издания"
   ]
  },
  {
   "cell_type": "code",
   "execution_count": null,
   "metadata": {},
   "outputs": [],
   "source": [
    "def cosine_sim(baseline_model, aligned_model, word):\n",
    "    result = []\n",
    "    for word in model2.vocab.keys():\n",
    "        vector1 = model1[word]\n",
    "        vector2 = model2[word]\n",
    "        cos = 1 - cosine(vector1, vector2)\n",
    "        t = (word, cos, 'iz-vesti' )\n",
    "        result.append(t)\n",
    "    return result"
   ]
  },
  {
   "cell_type": "code",
   "execution_count": null,
   "metadata": {},
   "outputs": [],
   "source": [
    "with open('iz-vesti.txt', 'w', encoding='UTF-8') as f:\n",
    "    f.write('\\n'.join(result))"
   ]
  },
  {
   "cell_type": "code",
   "execution_count": null,
   "metadata": {},
   "outputs": [],
   "source": [
    "cosine_overall_list = []\n",
    "for i in os.listdir('.'):\n",
    "    if i.startswith('iz-vesti'):\n",
    "        with open(i, 'r', encoding='UTF-8') as f:\n",
    "            l = f.readlines()\n",
    "            for ll in l:\n",
    "                s = ll.strip('()\\n')\n",
    "                sl = s.split(', ')\n",
    "                t = (str(sl[0].strip(r\"'\")), float(1-float(sl[1].strip(r\"'\"))), str(sl[2].strip(r\"'\")))\n",
    "                cosine_overall_list.append(t)"
   ]
  },
  {
   "cell_type": "code",
   "execution_count": null,
   "metadata": {},
   "outputs": [],
   "source": [
    "result = sorted(cosine_overall_list, key=lambda x: x[1])\n",
    "result = result[:2000]"
   ]
  }
 ],
 "metadata": {
  "kernelspec": {
   "display_name": "Python 3",
   "language": "python",
   "name": "python3"
  },
  "language_info": {
   "codemirror_mode": {
    "name": "ipython",
    "version": 3
   },
   "file_extension": ".py",
   "mimetype": "text/x-python",
   "name": "python",
   "nbconvert_exporter": "python",
   "pygments_lexer": "ipython3",
   "version": "3.8.5"
  }
 },
 "nbformat": 4,
 "nbformat_minor": 4
}
