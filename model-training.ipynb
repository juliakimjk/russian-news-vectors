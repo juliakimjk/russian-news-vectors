{
 "cells": [
  {
   "cell_type": "code",
   "execution_count": null,
   "metadata": {},
   "outputs": [],
   "source": [
    "from gensim.models import Word2Vec, KeyedVectors  \n",
    "from multiprocessing import cpu_count\n",
    "from tqdm import tqdm"
   ]
  },
  {
   "cell_type": "code",
   "execution_count": null,
   "metadata": {},
   "outputs": [],
   "source": [
    "%%time\n",
    "\n",
    "docs = []\n",
    "for i in tqdm(os.listdir('/home/yulkim/output/Lemmatized/')): #папка с предобработанным корпусом\n",
    "    if i.startswith('vesti'): #выбираем только статьи определенного издания\n",
    "        with open('/home/yulkim/output/Lemmatized/' + i, 'r', encoding='UTF') as f:\n",
    "            for ii in f.readlines():\n",
    "                docs.append(ii.split())"
   ]
  },
  {
   "cell_type": "code",
   "execution_count": null,
   "metadata": {},
   "outputs": [],
   "source": [
    "%%time\n",
    "w2v_model = Word2Vec(\n",
    "    min_count=10,\n",
    "    window=10,\n",
    "    size=300,\n",
    "    sg=1,\n",
    "    workers=cpu_count())\n",
    "w2v_model.build_vocab(docs)\n",
    "w2v_model.train(docs, total_examples=w2v_model.corpus_count, epochs=10)\n",
    "w2v_model.wv.save_word2vec_format('w2v_model_vesti.bin', binary=True) #сохраняем модель"
   ]
  }
 ],
 "metadata": {
  "kernelspec": {
   "display_name": "Python 3",
   "language": "python",
   "name": "python3"
  },
  "language_info": {
   "codemirror_mode": {
    "name": "ipython",
    "version": 3
   },
   "file_extension": ".py",
   "mimetype": "text/x-python",
   "name": "python",
   "nbconvert_exporter": "python",
   "pygments_lexer": "ipython3",
   "version": "3.8.5"
  }
 },
 "nbformat": 4,
 "nbformat_minor": 4
}
